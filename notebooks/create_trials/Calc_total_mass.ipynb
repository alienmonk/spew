{
 "cells": [
  {
   "cell_type": "code",
   "execution_count": 17,
   "metadata": {},
   "outputs": [],
   "source": [
    "%matplotlib inline\n",
    "from context import spew\n",
    "import numpy as np\n",
    "from shapely.geometry import Point\n",
    "import matplotlib.pyplot as plt\n",
    "from matplotlib import rc\n",
    "import pandas as pd\n",
    "from geopandas import GeoDataFrame\n",
    "import re\n",
    "import warnings\n",
    "warnings.filterwarnings('ignore')\n",
    "\n",
    "plt.style.use('ggplot')\n",
    "\n",
    "rc('font', **{'family': 'serif', 'serif': ['Palatino']})\n",
    "rc('text', usetex=True)"
   ]
  },
  {
   "cell_type": "code",
   "execution_count": 18,
   "metadata": {},
   "outputs": [
    {
     "name": "stdout",
     "output_type": "stream",
     "text": [
      "0 174.1465344442349\n",
      "288 517.1392014526793\n",
      "3600 582.4187752360259\n",
      "7200 583.3707483374993\n",
      "10800 583.4594050134542\n",
      "14400 583.4643443103307\n",
      "18000 583.4672896825451\n",
      "10000000 584.150603604652\n"
     ]
    }
   ],
   "source": [
    "for f in [0, 288, 3600, 7200, 10800, 14400, 18000, 10000000]:\n",
    "    filename = \"ftt_%d_out.txt\"%(f)\n",
    "    erp = spew.core.eruption.Eruption(data=filename, vent=Point(0, 0), test=False)\n",
    "    mass = (1000**2) * erp.df[\"MassArea\"]\n",
    "    input_mass = 1882315000000\n",
    "    tot_mass = mass.sum()\n",
    "    mass_perc = (tot_mass/input_mass)*100\n",
    "    print(f, mass_perc)"
   ]
  },
  {
   "cell_type": "code",
   "execution_count": null,
   "metadata": {},
   "outputs": [],
   "source": []
  },
  {
   "cell_type": "code",
   "execution_count": null,
   "metadata": {},
   "outputs": [],
   "source": []
  },
  {
   "cell_type": "code",
   "execution_count": null,
   "metadata": {},
   "outputs": [],
   "source": []
  }
 ],
 "metadata": {
  "kernelspec": {
   "display_name": "Python 3",
   "language": "python",
   "name": "python3"
  },
  "language_info": {
   "codemirror_mode": {
    "name": "ipython",
    "version": 3
   },
   "file_extension": ".py",
   "mimetype": "text/x-python",
   "name": "python",
   "nbconvert_exporter": "python",
   "pygments_lexer": "ipython3",
   "version": "3.6.4"
  }
 },
 "nbformat": 4,
 "nbformat_minor": 2
}
